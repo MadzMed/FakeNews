{
 "cells": [
  {
   "cell_type": "markdown",
   "metadata": {},
   "source": [
    "# Imports"
   ]
  },
  {
   "cell_type": "code",
   "execution_count": 1,
   "metadata": {},
   "outputs": [],
   "source": [
    "import pandas as pd\n",
    "import numpy as np\n",
    "import os\n",
    "import itertools\n",
    "from sklearn.model_selection import train_test_split\n",
    "from sklearn.feature_extraction.text import TfidfVectorizer\n",
    "from sklearn.linear_model import PassiveAggressiveClassifier\n",
    "from sklearn.metrics import accuracy_score, confusion_matrix"
   ]
  },
  {
   "cell_type": "markdown",
   "metadata": {},
   "source": [
    "# Data"
   ]
  },
  {
   "cell_type": "code",
   "execution_count": 2,
   "metadata": {},
   "outputs": [
    {
     "data": {
      "text/html": [
       "<div>\n",
       "<style scoped>\n",
       "    .dataframe tbody tr th:only-of-type {\n",
       "        vertical-align: middle;\n",
       "    }\n",
       "\n",
       "    .dataframe tbody tr th {\n",
       "        vertical-align: top;\n",
       "    }\n",
       "\n",
       "    .dataframe thead th {\n",
       "        text-align: right;\n",
       "    }\n",
       "</style>\n",
       "<table border=\"1\" class=\"dataframe\">\n",
       "  <thead>\n",
       "    <tr style=\"text-align: right;\">\n",
       "      <th></th>\n",
       "      <th>id</th>\n",
       "      <th>title</th>\n",
       "      <th>text</th>\n",
       "      <th>url</th>\n",
       "      <th>top_img</th>\n",
       "      <th>authors</th>\n",
       "      <th>source</th>\n",
       "      <th>publish_date</th>\n",
       "      <th>movies</th>\n",
       "      <th>images</th>\n",
       "      <th>canonical_link</th>\n",
       "      <th>meta_data</th>\n",
       "    </tr>\n",
       "  </thead>\n",
       "  <tbody>\n",
       "    <tr>\n",
       "      <th>0</th>\n",
       "      <td>Fake_1-Webpage</td>\n",
       "      <td>Proof The Mainstream Media Is Manipulating The...</td>\n",
       "      <td>I woke up this morning to find a variation of ...</td>\n",
       "      <td>http://www.addictinginfo.org/2016/09/19/proof-...</td>\n",
       "      <td>http://addictinginfo.addictinginfoent.netdna-c...</td>\n",
       "      <td>Wendy Gittleson</td>\n",
       "      <td>http://www.addictinginfo.org</td>\n",
       "      <td>{'$date': 1474243200000}</td>\n",
       "      <td>NaN</td>\n",
       "      <td>http://i.imgur.com/JeqZLhj.png,http://addictin...</td>\n",
       "      <td>http://addictinginfo.com/2016/09/19/proof-the-...</td>\n",
       "      <td>{\"publisher\": \"Addicting Info | The Knowledge ...</td>\n",
       "    </tr>\n",
       "    <tr>\n",
       "      <th>1</th>\n",
       "      <td>Fake_10-Webpage</td>\n",
       "      <td>Charity: Clinton Foundation Distributed “Water...</td>\n",
       "      <td>Former President Bill Clinton and his Clinton ...</td>\n",
       "      <td>http://eaglerising.com/36899/charity-clinton-f...</td>\n",
       "      <td>http://eaglerising.com/wp-content/uploads/2016...</td>\n",
       "      <td>View All Posts</td>\n",
       "      <td>http://eaglerising.com</td>\n",
       "      <td>{'$date': 1474416521000}</td>\n",
       "      <td>NaN</td>\n",
       "      <td>http://constitution.com/wp-content/uploads/201...</td>\n",
       "      <td>http://eaglerising.com/36899/charity-clinton-f...</td>\n",
       "      <td>{\"description\": \"The possibility that CHAI dis...</td>\n",
       "    </tr>\n",
       "    <tr>\n",
       "      <th>2</th>\n",
       "      <td>Fake_11-Webpage</td>\n",
       "      <td>A Hillary Clinton Administration May be Entire...</td>\n",
       "      <td>After collapsing just before trying to step in...</td>\n",
       "      <td>http://eaglerising.com/36880/a-hillary-clinton...</td>\n",
       "      <td>http://eaglerising.com/wp-content/uploads/2016...</td>\n",
       "      <td>View All Posts,Tony Elliott</td>\n",
       "      <td>http://eaglerising.com</td>\n",
       "      <td>{'$date': 1474416638000}</td>\n",
       "      <td>NaN</td>\n",
       "      <td>http://constitution.com/wp-content/uploads/201...</td>\n",
       "      <td>http://eaglerising.com/36880/a-hillary-clinton...</td>\n",
       "      <td>{\"description\": \"Hillary Clinton may be the fi...</td>\n",
       "    </tr>\n",
       "    <tr>\n",
       "      <th>3</th>\n",
       "      <td>Fake_12-Webpage</td>\n",
       "      <td>Trump’s Latest Campaign Promise May Be His Mos...</td>\n",
       "      <td>Donald Trump is, well, deplorable. He’s sugges...</td>\n",
       "      <td>http://www.addictinginfo.org/2016/09/19/trumps...</td>\n",
       "      <td>http://addictinginfo.addictinginfoent.netdna-c...</td>\n",
       "      <td>John Prager</td>\n",
       "      <td>http://www.addictinginfo.org</td>\n",
       "      <td>{'$date': 1474243200000}</td>\n",
       "      <td>NaN</td>\n",
       "      <td>http://i.imgur.com/JeqZLhj.png,http://2.gravat...</td>\n",
       "      <td>http://addictinginfo.com/2016/09/19/trumps-lat...</td>\n",
       "      <td>{\"publisher\": \"Addicting Info | The Knowledge ...</td>\n",
       "    </tr>\n",
       "    <tr>\n",
       "      <th>4</th>\n",
       "      <td>Fake_13-Webpage</td>\n",
       "      <td>Website is Down For Maintenance</td>\n",
       "      <td>Website is Down For Maintenance</td>\n",
       "      <td>http://www.proudcons.com/clinton-foundation-ca...</td>\n",
       "      <td>NaN</td>\n",
       "      <td>NaN</td>\n",
       "      <td>http://www.proudcons.com</td>\n",
       "      <td>NaN</td>\n",
       "      <td>NaN</td>\n",
       "      <td>NaN</td>\n",
       "      <td>NaN</td>\n",
       "      <td>{\"og\": {\"url\": \"http://www.proudcons.com\", \"ty...</td>\n",
       "    </tr>\n",
       "    <tr>\n",
       "      <th>...</th>\n",
       "      <td>...</td>\n",
       "      <td>...</td>\n",
       "      <td>...</td>\n",
       "      <td>...</td>\n",
       "      <td>...</td>\n",
       "      <td>...</td>\n",
       "      <td>...</td>\n",
       "      <td>...</td>\n",
       "      <td>...</td>\n",
       "      <td>...</td>\n",
       "      <td>...</td>\n",
       "      <td>...</td>\n",
       "    </tr>\n",
       "    <tr>\n",
       "      <th>86</th>\n",
       "      <td>Real_88-Webpage</td>\n",
       "      <td>It’s “Trump is HITLER” Month at the Washington...</td>\n",
       "      <td>Like much of the mainstream media, the Washing...</td>\n",
       "      <td>http://eaglerising.com/36955/its-trump-is-hitl...</td>\n",
       "      <td>http://eaglerising.com/wp-content/uploads/2016...</td>\n",
       "      <td>View All Posts,Jeff Dunetz</td>\n",
       "      <td>http://eaglerising.com</td>\n",
       "      <td>{'$date': 1474526406000}</td>\n",
       "      <td>NaN</td>\n",
       "      <td>http://constitution.com/wp-content/uploads/201...</td>\n",
       "      <td>http://eaglerising.com/36955/its-trump-is-hitl...</td>\n",
       "      <td>{\"description\": \"Now they are taking the lazy,...</td>\n",
       "    </tr>\n",
       "    <tr>\n",
       "      <th>87</th>\n",
       "      <td>Real_89-Webpage</td>\n",
       "      <td>Obama’s team isn’t laughing at Trump anymore</td>\n",
       "      <td>2016 Obama’s team isn’t laughing at Trump anym...</td>\n",
       "      <td>http://politi.co/2cW2vAD</td>\n",
       "      <td>http://v.politico.com/images/1155968404/201609...</td>\n",
       "      <td>Edward-isaac Dovere,Eli Stokols,Politico Staff...</td>\n",
       "      <td>http://politi.co</td>\n",
       "      <td>{'$date': 1474866060000}</td>\n",
       "      <td>NaN</td>\n",
       "      <td>http://v.politico.com/images/1155968404/201609...</td>\n",
       "      <td>http://www.politico.com/story/2016/09/barack-o...</td>\n",
       "      <td>{\"description\": \"The president\\u2019s aides wo...</td>\n",
       "    </tr>\n",
       "    <tr>\n",
       "      <th>88</th>\n",
       "      <td>Real_9-Webpage</td>\n",
       "      <td>Georgia poll: Donald Trump, Hillary Clinton in...</td>\n",
       "      <td>Story highlights Trump has 45%, Clinton 42% an...</td>\n",
       "      <td>http://cnn.it/2cynaZx</td>\n",
       "      <td>http://i2.cdn.cnn.com/cnnnext/dam/assets/16091...</td>\n",
       "      <td>Tal Kopan</td>\n",
       "      <td>http://cnn.it</td>\n",
       "      <td>NaN</td>\n",
       "      <td>NaN</td>\n",
       "      <td>http://i2.cdn.cnn.com/cnnnext/dam/assets/16102...</td>\n",
       "      <td>http://www.cnn.com/2016/09/19/politics/georgia...</td>\n",
       "      <td>{\"description\": \"Donald Trump is up 3 points o...</td>\n",
       "    </tr>\n",
       "    <tr>\n",
       "      <th>89</th>\n",
       "      <td>Real_90-Webpage</td>\n",
       "      <td>Chelsea Handler Gets The Last Word After RNC C...</td>\n",
       "      <td>There may be a few women out there who enjoy a...</td>\n",
       "      <td>http://www.addictinginfo.org/2016/09/19/chelse...</td>\n",
       "      <td>http://addictinginfo.addictinginfoent.netdna-c...</td>\n",
       "      <td>NaN</td>\n",
       "      <td>http://www.addictinginfo.org</td>\n",
       "      <td>{'$date': 1474243200000}</td>\n",
       "      <td>NaN</td>\n",
       "      <td>http://i.imgur.com/JeqZLhj.png,https://d5nxst8...</td>\n",
       "      <td>http://addictinginfo.com/2016/09/19/chelsea-ha...</td>\n",
       "      <td>{\"publisher\": \"Addicting Info | The Knowledge ...</td>\n",
       "    </tr>\n",
       "    <tr>\n",
       "      <th>90</th>\n",
       "      <td>Real_91-Webpage</td>\n",
       "      <td>Is Donald Trump qualified to be president?</td>\n",
       "      <td>Off Message Is Donald Trump qualified to be pr...</td>\n",
       "      <td>http://politi.co/2dkiM5e</td>\n",
       "      <td>http://v.politico.com/images/1155968404/201609...</td>\n",
       "      <td>Jack Shafer,Kyle Cheney,Daniel Strauss,Daniel ...</td>\n",
       "      <td>http://politi.co</td>\n",
       "      <td>{'$date': 1474866599000}</td>\n",
       "      <td>NaN</td>\n",
       "      <td>http://v.politico.com/images/1155968404/201609...</td>\n",
       "      <td>http://www.politico.com/story/2016/09/is-donal...</td>\n",
       "      <td>{\"description\": \"In the most pivotal moment of...</td>\n",
       "    </tr>\n",
       "  </tbody>\n",
       "</table>\n",
       "<p>182 rows × 12 columns</p>\n",
       "</div>"
      ],
      "text/plain": [
       "                 id                                              title  \\\n",
       "0    Fake_1-Webpage  Proof The Mainstream Media Is Manipulating The...   \n",
       "1   Fake_10-Webpage  Charity: Clinton Foundation Distributed “Water...   \n",
       "2   Fake_11-Webpage  A Hillary Clinton Administration May be Entire...   \n",
       "3   Fake_12-Webpage  Trump’s Latest Campaign Promise May Be His Mos...   \n",
       "4   Fake_13-Webpage                    Website is Down For Maintenance   \n",
       "..              ...                                                ...   \n",
       "86  Real_88-Webpage  It’s “Trump is HITLER” Month at the Washington...   \n",
       "87  Real_89-Webpage       Obama’s team isn’t laughing at Trump anymore   \n",
       "88   Real_9-Webpage  Georgia poll: Donald Trump, Hillary Clinton in...   \n",
       "89  Real_90-Webpage  Chelsea Handler Gets The Last Word After RNC C...   \n",
       "90  Real_91-Webpage         Is Donald Trump qualified to be president?   \n",
       "\n",
       "                                                 text  \\\n",
       "0   I woke up this morning to find a variation of ...   \n",
       "1   Former President Bill Clinton and his Clinton ...   \n",
       "2   After collapsing just before trying to step in...   \n",
       "3   Donald Trump is, well, deplorable. He’s sugges...   \n",
       "4                     Website is Down For Maintenance   \n",
       "..                                                ...   \n",
       "86  Like much of the mainstream media, the Washing...   \n",
       "87  2016 Obama’s team isn’t laughing at Trump anym...   \n",
       "88  Story highlights Trump has 45%, Clinton 42% an...   \n",
       "89  There may be a few women out there who enjoy a...   \n",
       "90  Off Message Is Donald Trump qualified to be pr...   \n",
       "\n",
       "                                                  url  \\\n",
       "0   http://www.addictinginfo.org/2016/09/19/proof-...   \n",
       "1   http://eaglerising.com/36899/charity-clinton-f...   \n",
       "2   http://eaglerising.com/36880/a-hillary-clinton...   \n",
       "3   http://www.addictinginfo.org/2016/09/19/trumps...   \n",
       "4   http://www.proudcons.com/clinton-foundation-ca...   \n",
       "..                                                ...   \n",
       "86  http://eaglerising.com/36955/its-trump-is-hitl...   \n",
       "87                           http://politi.co/2cW2vAD   \n",
       "88                              http://cnn.it/2cynaZx   \n",
       "89  http://www.addictinginfo.org/2016/09/19/chelse...   \n",
       "90                           http://politi.co/2dkiM5e   \n",
       "\n",
       "                                              top_img  \\\n",
       "0   http://addictinginfo.addictinginfoent.netdna-c...   \n",
       "1   http://eaglerising.com/wp-content/uploads/2016...   \n",
       "2   http://eaglerising.com/wp-content/uploads/2016...   \n",
       "3   http://addictinginfo.addictinginfoent.netdna-c...   \n",
       "4                                                 NaN   \n",
       "..                                                ...   \n",
       "86  http://eaglerising.com/wp-content/uploads/2016...   \n",
       "87  http://v.politico.com/images/1155968404/201609...   \n",
       "88  http://i2.cdn.cnn.com/cnnnext/dam/assets/16091...   \n",
       "89  http://addictinginfo.addictinginfoent.netdna-c...   \n",
       "90  http://v.politico.com/images/1155968404/201609...   \n",
       "\n",
       "                                              authors  \\\n",
       "0                                     Wendy Gittleson   \n",
       "1                                      View All Posts   \n",
       "2                         View All Posts,Tony Elliott   \n",
       "3                                         John Prager   \n",
       "4                                                 NaN   \n",
       "..                                                ...   \n",
       "86                         View All Posts,Jeff Dunetz   \n",
       "87  Edward-isaac Dovere,Eli Stokols,Politico Staff...   \n",
       "88                                          Tal Kopan   \n",
       "89                                                NaN   \n",
       "90  Jack Shafer,Kyle Cheney,Daniel Strauss,Daniel ...   \n",
       "\n",
       "                          source              publish_date movies  \\\n",
       "0   http://www.addictinginfo.org  {'$date': 1474243200000}    NaN   \n",
       "1         http://eaglerising.com  {'$date': 1474416521000}    NaN   \n",
       "2         http://eaglerising.com  {'$date': 1474416638000}    NaN   \n",
       "3   http://www.addictinginfo.org  {'$date': 1474243200000}    NaN   \n",
       "4       http://www.proudcons.com                       NaN    NaN   \n",
       "..                           ...                       ...    ...   \n",
       "86        http://eaglerising.com  {'$date': 1474526406000}    NaN   \n",
       "87              http://politi.co  {'$date': 1474866060000}    NaN   \n",
       "88                 http://cnn.it                       NaN    NaN   \n",
       "89  http://www.addictinginfo.org  {'$date': 1474243200000}    NaN   \n",
       "90              http://politi.co  {'$date': 1474866599000}    NaN   \n",
       "\n",
       "                                               images  \\\n",
       "0   http://i.imgur.com/JeqZLhj.png,http://addictin...   \n",
       "1   http://constitution.com/wp-content/uploads/201...   \n",
       "2   http://constitution.com/wp-content/uploads/201...   \n",
       "3   http://i.imgur.com/JeqZLhj.png,http://2.gravat...   \n",
       "4                                                 NaN   \n",
       "..                                                ...   \n",
       "86  http://constitution.com/wp-content/uploads/201...   \n",
       "87  http://v.politico.com/images/1155968404/201609...   \n",
       "88  http://i2.cdn.cnn.com/cnnnext/dam/assets/16102...   \n",
       "89  http://i.imgur.com/JeqZLhj.png,https://d5nxst8...   \n",
       "90  http://v.politico.com/images/1155968404/201609...   \n",
       "\n",
       "                                       canonical_link  \\\n",
       "0   http://addictinginfo.com/2016/09/19/proof-the-...   \n",
       "1   http://eaglerising.com/36899/charity-clinton-f...   \n",
       "2   http://eaglerising.com/36880/a-hillary-clinton...   \n",
       "3   http://addictinginfo.com/2016/09/19/trumps-lat...   \n",
       "4                                                 NaN   \n",
       "..                                                ...   \n",
       "86  http://eaglerising.com/36955/its-trump-is-hitl...   \n",
       "87  http://www.politico.com/story/2016/09/barack-o...   \n",
       "88  http://www.cnn.com/2016/09/19/politics/georgia...   \n",
       "89  http://addictinginfo.com/2016/09/19/chelsea-ha...   \n",
       "90  http://www.politico.com/story/2016/09/is-donal...   \n",
       "\n",
       "                                            meta_data  \n",
       "0   {\"publisher\": \"Addicting Info | The Knowledge ...  \n",
       "1   {\"description\": \"The possibility that CHAI dis...  \n",
       "2   {\"description\": \"Hillary Clinton may be the fi...  \n",
       "3   {\"publisher\": \"Addicting Info | The Knowledge ...  \n",
       "4   {\"og\": {\"url\": \"http://www.proudcons.com\", \"ty...  \n",
       "..                                                ...  \n",
       "86  {\"description\": \"Now they are taking the lazy,...  \n",
       "87  {\"description\": \"The president\\u2019s aides wo...  \n",
       "88  {\"description\": \"Donald Trump is up 3 points o...  \n",
       "89  {\"publisher\": \"Addicting Info | The Knowledge ...  \n",
       "90  {\"description\": \"In the most pivotal moment of...  \n",
       "\n",
       "[182 rows x 12 columns]"
      ]
     },
     "execution_count": 2,
     "metadata": {},
     "output_type": "execute_result"
    }
   ],
   "source": [
    "csv_files = [\"fake_news_content.csv\", \"real_news_content.csv\"]\n",
    "for file in csv_files:\n",
    "    news_path = os.path.join('data',file)\n",
    "    news_df = pd.read_csv(news_path)\n",
    "    news_df['label'] = file[0:4].upper()\n",
    "    data_df = news_df if not 'data_df' in locals() else data_df.append(news_df)\n",
    "\n",
    "labels = data_df.label\n",
    "data_df.drop(columns='label')"
   ]
  },
  {
   "cell_type": "code",
   "execution_count": 3,
   "metadata": {},
   "outputs": [
    {
     "data": {
      "text/plain": [
       "(182, 13)"
      ]
     },
     "execution_count": 3,
     "metadata": {},
     "output_type": "execute_result"
    }
   ],
   "source": [
    "data_df.shape"
   ]
  },
  {
   "cell_type": "markdown",
   "metadata": {},
   "source": [
    "# Train/Test Sample"
   ]
  },
  {
   "cell_type": "code",
   "execution_count": 4,
   "metadata": {},
   "outputs": [],
   "source": [
    "x_train, x_test, y_train, y_test = train_test_split(data_df, labels, test_size=0.2, random_state=5)"
   ]
  },
  {
   "cell_type": "markdown",
   "metadata": {},
   "source": [
    "# Vectorizer"
   ]
  },
  {
   "cell_type": "code",
   "execution_count": 5,
   "metadata": {},
   "outputs": [],
   "source": [
    "tfidf_vectorizer=TfidfVectorizer(stop_words='english', max_df=0.7)\n",
    "tfidf_train=tfidf_vectorizer.fit_transform(x_train['text']) \n",
    "tfidf_test=tfidf_vectorizer.transform(x_test['text'])"
   ]
  },
  {
   "cell_type": "markdown",
   "metadata": {},
   "source": [
    "# Classifier"
   ]
  },
  {
   "cell_type": "code",
   "execution_count": 6,
   "metadata": {},
   "outputs": [
    {
     "name": "stdout",
     "output_type": "stream",
     "text": [
      "Accuracy: 54.05%\n"
     ]
    }
   ],
   "source": [
    "pac=PassiveAggressiveClassifier(max_iter=50)\n",
    "pac.fit(tfidf_train,y_train)\n",
    "\n",
    "y_pred=pac.predict(tfidf_test)\n",
    "score=accuracy_score(y_test,y_pred)\n",
    "print(f'Accuracy: {round(score*100,2)}%')"
   ]
  },
  {
   "cell_type": "code",
   "execution_count": 7,
   "metadata": {
    "scrolled": true
   },
   "outputs": [
    {
     "data": {
      "text/plain": [
       "array([[10, 13],\n",
       "       [ 4, 10]])"
      ]
     },
     "execution_count": 7,
     "metadata": {},
     "output_type": "execute_result"
    }
   ],
   "source": [
    "confusion_matrix(y_test,y_pred, labels=['FAKE','REAL'])"
   ]
  },
  {
   "cell_type": "markdown",
   "metadata": {},
   "source": [
    "# test on other data"
   ]
  },
  {
   "cell_type": "code",
   "execution_count": 8,
   "metadata": {
    "scrolled": true
   },
   "outputs": [],
   "source": [
    "data_path = os.path.join('data','news.csv')\n",
    "test_df = pd.read_csv(data_path)\n",
    "labels_test = test_df.label\n",
    "test_df.drop(columns='label')\n",
    "test_df_vectorized = tfidf_vectorizer.transform(test_df['text'])"
   ]
  },
  {
   "cell_type": "code",
   "execution_count": 9,
   "metadata": {},
   "outputs": [
    {
     "name": "stdout",
     "output_type": "stream",
     "text": [
      "Accuracy: 70.18%\n"
     ]
    }
   ],
   "source": [
    "my_pred = pac.predict(test_df_vectorized)\n",
    "score=accuracy_score(labels_test,my_pred)\n",
    "print(f'Accuracy: {round(score*100,2)}%')"
   ]
  }
 ],
 "metadata": {
  "kernelspec": {
   "display_name": "Python 3",
   "language": "python",
   "name": "python3"
  },
  "language_info": {
   "codemirror_mode": {
    "name": "ipython",
    "version": 3
   },
   "file_extension": ".py",
   "mimetype": "text/x-python",
   "name": "python",
   "nbconvert_exporter": "python",
   "pygments_lexer": "ipython3",
   "version": "3.7.7"
  }
 },
 "nbformat": 4,
 "nbformat_minor": 4
}
